{
 "cells": [
  {
   "cell_type": "markdown",
   "metadata": {},
   "source": [
    "# Dimensionality Reduction Using Principal Component Analysis"
   ]
  },
  {
   "cell_type": "code",
   "execution_count": 1,
   "metadata": {
    "scrolled": true
   },
   "outputs": [
    {
     "name": "stdout",
     "output_type": "stream",
     "text": [
      "Python version     : 3.6\n",
      "Tensorflow version : 1.4.0\n",
      "numpy version      : 1.13.3\n"
     ]
    }
   ],
   "source": [
    "import sys\n",
    "import os\n",
    "from datetime import datetime\n",
    "import numpy as np\n",
    "import tensorflow as tf\n",
    "import matplotlib.pyplot as plt\n",
    "import seaborn as sn\n",
    "\n",
    "print('Python version     :', '{0[0]}.{0[1]}'.format(sys.version_info))\n",
    "print('Tensorflow version :', tf.__version__)\n",
    "print('numpy version      :', np.__version__)\n",
    "np.random.seed(0)\n",
    "tf.set_random_seed(2)"
   ]
  },
  {
   "cell_type": "markdown",
   "metadata": {},
   "source": [
    "## Dataset\n",
    "\n",
    "Our dataset consists of total of over 12,000 cells with a total of 2 categories; over 2,000 cells in sequential category (labelled SQNC) and over 10,000 in combinational category (labelled COMB). Each cell in the dataset is represented as a 2D matrix of transistor devices and their parameters given below:\n",
    "\n",
    "\n",
    "| Device | param1 | param2 | param3 | param4 | param5 | ...... | ...... | param13 |\n",
    "|--------|--------|--------|--------|--------|--------|--------|--------|---------|\n",
    "|   10   |    6   |    6   |    3   |    3   |    5   |        |        |    2    |\n",
    "|   10   |    8   |    3   |    2   |    4   |    4   |    2   |    3   |    6    |\n",
    "|   20   |    7   |    3   |    2   |    4   |    4   |    2   |    3   |    2    |\n",
    "|  ...   |  ...   |  ...   |  ...   |  ...   |  ...   |  ...   |  ...   |  ...    |\n",
    "|  ...   |  ...   |  ...   |  ...   |  ...   |  ...   |  ...   |  ...   |  ...    |\n",
    "|   20   |    7   |    3   |    2   |    4   |    5   |    2   |    3   |    2    |\n",
    "\n",
    "\n",
    "Entire dataset consists of 20,000 such tables is shown in the next picture."
   ]
  },
  {
   "cell_type": "markdown",
   "metadata": {},
   "source": [
    "\n",
    "![Cell Dataset As Stack Of Tables](https://github.com/srohit0/mida/blob/master/data/CellDatasetAsStackOfTables.jpg?raw=true)"
   ]
  },
  {
   "cell_type": "markdown",
   "metadata": {},
   "source": [
    "# Feature Selection\n",
    "\n",
    "Each cell in the dataset has size of 351x14, which gives us dimension of approximately 5000 features. As a domain expert in the circuit analysis we’ve identified column 0,2,5,8, and 11 are relevant to circuit classification. In this process, we’ve reduced our dataset to 351x5 features from 351x14. This gives us a total savings of over 35 percent."
   ]
  },
  {
   "cell_type": "code",
   "execution_count": 2,
   "metadata": {},
   "outputs": [],
   "source": [
    "# max_devices_per_cell is also max number of rows in circuit files in the training set\n",
    "max_devices_per_cell = 351; \n",
    "# feature_per_device is different from max number of cols (14) in circuit files in training set\n",
    "feature_per_device   = 5; \n",
    "# Feature Selection\n",
    "feature_indices = (0,2,5,8,11)\n",
    "\n",
    "def load_one_cell(cell_file):\n",
    "    cell_cols = 14\n",
    "    cell_data = np.zeros(shape=(max_devices_per_cell, cell_cols), dtype=np.float32)\n",
    "    cell_mat  = np.loadtxt(cell_file, dtype=np.float32, ndmin=2)\n",
    "    nrows     = cell_mat.shape[0]\n",
    "    ncols     = cell_mat.shape[1]\n",
    "    cell_data[:nrows, :ncols] = cell_mat\n",
    "    cell_data = cell_data[:, feature_indices]\n",
    "    return cell_data"
   ]
  },
  {
   "cell_type": "code",
   "execution_count": 3,
   "metadata": {
    "scrolled": false
   },
   "outputs": [
    {
     "name": "stdout",
     "output_type": "stream",
     "text": [
      "COMB : shape= (10096, 351, 5) , Mean= 0.686939 , sigma= 2.95702\n",
      "SQNC : shape= (2096, 351, 5) , Mean= 1.36903 , sigma= 4.67975\n"
     ]
    }
   ],
   "source": [
    "def load_cells(folder):\n",
    "  #Load the data for a single label.\n",
    "  cell_files = os.listdir(folder)\n",
    "  dataset = np.zeros(shape=(len(cell_files), max_devices_per_cell, feature_per_device),\n",
    "                         dtype=np.float32)\n",
    "  cell_index = 0\n",
    "  for cell in cell_files:\n",
    "    cell_file = os.path.join(folder, cell)\n",
    "    try:\n",
    "      cell_data = load_one_cell(cell_file)\n",
    "\n",
    "      cell_rows = cell_data.shape[0]\n",
    "      cell_cols = cell_data.shape[1]\n",
    "      dataset[cell_index, :cell_rows, :cell_cols] = cell_data\n",
    "\n",
    "      cell_index = cell_index + 1\n",
    "    except IOError as e:\n",
    "      print('Could not read:', cell_file, ':', e, '- it\\'s ok, skipping.')\n",
    "    \n",
    "  dataset = dataset[0:cell_index, :, :]\n",
    "\n",
    "  print(os.path.basename(folder), ': shape=', dataset.shape, ', Mean=', np.mean(dataset),\n",
    "        ', sigma=', np.std(dataset))\n",
    "  return dataset\n",
    "\n",
    "comb_dataset = load_cells(os.path.join('..','data','2classes','COMB'))\n",
    "sqnc_dataset = load_cells(os.path.join('..','data','2classes','SQNC'))"
   ]
  },
  {
   "cell_type": "markdown",
   "metadata": {},
   "source": [
    "## Create Labels"
   ]
  },
  {
   "cell_type": "code",
   "execution_count": 4,
   "metadata": {},
   "outputs": [],
   "source": [
    "# create one hot labels\n",
    "#         COMB_LABEL=[1.0, 0.0], SQNC_LABEL=[0.0, 1.0]\n",
    "labels = np.asarray([[1.0, 0.0] if (i<comb_dataset.shape[0]) else [0.0, 1.0] for i in \\\n",
    "                     range(comb_dataset.shape[0]+sqnc_dataset.shape[0])])"
   ]
  },
  {
   "cell_type": "markdown",
   "metadata": {},
   "source": [
    "# Randomize Dataset"
   ]
  },
  {
   "cell_type": "code",
   "execution_count": 5,
   "metadata": {},
   "outputs": [
    {
     "name": "stdout",
     "output_type": "stream",
     "text": [
      "Full dataset: no. of cells= (12192, 351, 5) Min= 0.0 Max= 50.0 Mean= 0.804202 Sigma= 3.32745\n"
     ]
    }
   ],
   "source": [
    "# randomize comb and sqnc dataset\n",
    "np.random.shuffle(comb_dataset)\n",
    "np.random.shuffle(sqnc_dataset)\n",
    "\n",
    "# Create a combined dataset\n",
    "dataset = np.append(comb_dataset, sqnc_dataset, axis=0)\n",
    "\n",
    "# randomize dataset and labels together to keep'em in sync.\n",
    "def randomize(dataset, labels):\n",
    "  permutation = np.random.permutation(labels.shape[0])\n",
    "  shuffled_dataset = dataset[permutation,:,:]\n",
    "  shuffled_labels = labels[permutation]\n",
    "  return shuffled_dataset, shuffled_labels\n",
    "\n",
    "# randomize dataset\n",
    "dataset, labels = randomize(dataset, labels)\n",
    "\n",
    "print('Full dataset: no. of cells=', dataset.shape, 'Min=', np.min(dataset), 'Max=',np.max(dataset), \n",
    "      'Mean=', np.mean(dataset), 'Sigma=', np.std(dataset))"
   ]
  },
  {
   "cell_type": "markdown",
   "metadata": {},
   "source": [
    "# Reformat Dataset"
   ]
  },
  {
   "cell_type": "code",
   "execution_count": 6,
   "metadata": {},
   "outputs": [],
   "source": [
    "def reformat(dataset):\n",
    "    dataset = dataset.reshape((-1, max_devices_per_cell*feature_per_device))\n",
    "    return dataset\n",
    "\n",
    "dataset = reformat(dataset)"
   ]
  },
  {
   "cell_type": "markdown",
   "metadata": {},
   "source": [
    "# Normalize Dataset"
   ]
  },
  {
   "cell_type": "code",
   "execution_count": 7,
   "metadata": {},
   "outputs": [
    {
     "name": "stdout",
     "output_type": "stream",
     "text": [
      "Min= 0.0 Max= 1.0 Mean= 0.016084 sigma= 0.066549\n",
      "Dataset size (12192, 1755)\n"
     ]
    }
   ],
   "source": [
    "# normalize the dataset between 0 and 1.\n",
    "data_mean = 0;\n",
    "data_std  = (np.max(dataset)-np.min(dataset));\n",
    "\n",
    "def normalize(d, mean, std):\n",
    "    return (d - mean) / std\n",
    "\n",
    "def denormalize(d, mean, std):\n",
    "    return (d * std) + mean\n",
    "\n",
    "dataset = normalize(dataset, data_mean, data_std)\n",
    "\n",
    "print('Min=', np.min(dataset), 'Max=',np.max(dataset), 'Mean=',np.mean(dataset), 'sigma=', np.std(dataset))\n",
    "print('Dataset size', dataset.shape)"
   ]
  },
  {
   "cell_type": "markdown",
   "metadata": {},
   "source": [
    "## Divide Dataset\n",
    "into training and test set"
   ]
  },
  {
   "cell_type": "code",
   "execution_count": 8,
   "metadata": {},
   "outputs": [
    {
     "name": "stdout",
     "output_type": "stream",
     "text": [
      "(9753, 1755)\n"
     ]
    }
   ],
   "source": [
    "# training dataset percentage is 80%\n",
    "def divide_dataset(dataset, labels):\n",
    "    train_pct = 0.8; \n",
    "    # divide dataset into training and validation set\n",
    "    train_index = int(dataset.shape[0]*train_pct)\n",
    "    t_X = dataset[:train_index, :]\n",
    "    t_Y = labels[:train_index,:]\n",
    "    v_X = dataset[train_index:,:]\n",
    "    v_Y = labels[train_index:,:]\n",
    "    \n",
    "    return t_X, t_Y, v_X, v_Y\n",
    "\n",
    "train_X, train_Y, valid_X, valid_Y = divide_dataset(dataset, labels)\n",
    "\n",
    "print(train_X.shape)"
   ]
  },
  {
   "cell_type": "markdown",
   "metadata": {},
   "source": [
    "---\n",
    "\n",
    "# Principal Component Analysis\n",
    "\n",
    "---\n",
    "\n",
    "Remember to apply PCA only to the training set to find feature projection matrix. This projection matrix will then be used to transform validation set into lower dimensional space."
   ]
  },
  {
   "cell_type": "markdown",
   "metadata": {},
   "source": [
    "## Singular Value Decomposition\n",
    "\n",
    "__NOTE__ : couple of issues uncovered  in tensorflow:\n",
    "\n",
    "1. *tf.matmul(a=dataset, b=dataset, transpose_a=True)* \n",
    "   - symptom: Segfault. \n",
    "   - Bug id: https://github.com/tensorflow/tensorflow/issues/9234\n",
    "2. *tf.svd(covariance)* \n",
    "   - is giving 'Nan' values. \n",
    "   - Bug id: https://github.com/tensorflow/tensorflow/issues/8905\n",
    "\n",
    "Using numpy as a workaround for now."
   ]
  },
  {
   "cell_type": "code",
   "execution_count": 9,
   "metadata": {},
   "outputs": [],
   "source": [
    "n_samples  = train_X.shape[0]\n",
    "n_features = train_X.shape[1]\n",
    "# Threshold for keeping the variance in reduced training dataset\n",
    "keep_variance = 0.9997"
   ]
  },
  {
   "cell_type": "code",
   "execution_count": 10,
   "metadata": {},
   "outputs": [
    {
     "name": "stdout",
     "output_type": "stream",
     "text": [
      "SVD:\n",
      "U= (1755, 1755) \n",
      "S= (1755,) \n",
      "V= (1755, 1755)\n"
     ]
    }
   ],
   "source": [
    "# Co variance\n",
    "covariance = np.matmul(np.transpose(train_X), train_X)/n_samples\n",
    "\n",
    "# Perform SVD\n",
    "U, singular_values, V = np.linalg.svd(covariance)\n",
    "print('SVD:\\nU=', U.shape, '\\nS=', singular_values.shape, '\\nV=', V.shape)"
   ]
  },
  {
   "cell_type": "markdown",
   "metadata": {},
   "source": [
    "## Reduce Dimension\n",
    "A useful measure is the so-called \"explained variance,\" which is nothing but normalized singular values. The explained variance tells us how much information (variance) can be attributed to each of the principal components."
   ]
  },
  {
   "cell_type": "code",
   "execution_count": 11,
   "metadata": {},
   "outputs": [],
   "source": [
    "# Normalize Singular values\n",
    "normalized_singular_values = singular_values / np.sum(singular_values)\n",
    "\n",
    "# Create a ladder of cumulative sum of normalized singular values\n",
    "# This represents array of 'explained variance'\n",
    "cumulative_sum = np.cumsum(normalized_singular_values)\n",
    "\n",
    "# Find first index, which is above given threshold: 'variance_kept'\n",
    "n_dimension = next(idx for idx, value in enumerate(cumulative_sum) \n",
    "                   if value >= keep_variance) + 1"
   ]
  },
  {
   "cell_type": "markdown",
   "metadata": {},
   "source": [
    "## Reduced dataset\n",
    "\n",
    "The construction of the projection matrix that will be used to transform the original dataset onto the new feature subspace. The term \"projection matrix\" is a fancy term for top *'n_dimension'* singular vectors."
   ]
  },
  {
   "cell_type": "code",
   "execution_count": 12,
   "metadata": {
    "scrolled": true
   },
   "outputs": [
    {
     "name": "stdout",
     "output_type": "stream",
     "text": [
      "dataset before (9753, 1755)\n",
      "dataset after (9753, 386)\n",
      "\tMin= -7.67917 Max= 10.4665 Mean= -0.00620747 sigma= 0.145357\n"
     ]
    }
   ],
   "source": [
    "def reduceDataset(train_X):\n",
    "    return np.matmul(train_X, U[:,:n_dimension])\n",
    "\n",
    "print('dataset before', train_X.shape)\n",
    "rtrain_X = reduceDataset(train_X)\n",
    "print('dataset after', rtrain_X.shape)\n",
    "print('\\tMin=', np.min(rtrain_X), 'Max=',np.max(rtrain_X), \n",
    "      'Mean=',np.mean(rtrain_X), 'sigma=', np.std(rtrain_X))"
   ]
  },
  {
   "cell_type": "markdown",
   "metadata": {},
   "source": [
    "## Project Back to Higher Dimension\n",
    "\n",
    "After projecting original dataset onto the lower dimensional feature space, you can somewhat recover the data (with some loss) by projecting it back onto the original high dimensional space.\n",
    "\n",
    "One can validate recovered results by asserting that variance lost in the recovery is less than variance kept."
   ]
  },
  {
   "cell_type": "code",
   "execution_count": 13,
   "metadata": {},
   "outputs": [
    {
     "name": "stdout",
     "output_type": "stream",
     "text": [
      "dataset recovered successfully.\n",
      "\n",
      "Variance Keep: 0.9997\n",
      "Variance Lost: 1.37535e-06\n",
      "ORIGINAL : (9753, 1755) Mean= 0.0159829 , sigma= 0.0663437 , norm= 282.341\n",
      "REDUCED  : (9753, 1755) Mean= 0.0159829 , sigma= 0.0663333 , norm= 282.294\n"
     ]
    }
   ],
   "source": [
    "recovered_train_X = np.matmul(rtrain_X, np.transpose(U[:,:n_dimension]))\n",
    "\n",
    "lost_variance = ((train_X-recovered_train_X)**2).mean(axis=None)\n",
    "\n",
    "if ( lost_variance <= keep_variance ):\n",
    "    print(\"dataset recovered successfully.\\n\")\n",
    "\n",
    "print('Variance Keep:', keep_variance)\n",
    "print('Variance Lost:', lost_variance)\n",
    "print('ORIGINAL :', train_X.shape, 'Mean=',np.mean(train_X), ', sigma=', np.std(train_X), \n",
    "      ', norm=', np.linalg.norm(train_X))\n",
    "print('REDUCED  :', recovered_train_X.shape, 'Mean=',np.mean(recovered_train_X), ', sigma=', np.std(recovered_train_X), \n",
    "      ', norm=', np.linalg.norm(recovered_train_X))"
   ]
  },
  {
   "cell_type": "markdown",
   "metadata": {},
   "source": [
    "## Effectiveness of Transformed Features \n",
    "\n",
    "Following two bar charts show effectiveness of transformed features. First feature covers over 52% variance, next 5 cover a total of 75% variance and next 15 cover over 85% variance."
   ]
  },
  {
   "cell_type": "code",
   "execution_count": 14,
   "metadata": {},
   "outputs": [
    {
     "data": {
      "image/png": "[encoded data removed]",
      "text/plain": [
       "<matplotlib.figure.Figure at 0x13b28fcc390>"
      ]
     },
     "metadata": {},
     "output_type": "display_data"
    }
   ],
   "source": [
    "display_limit = 50\n",
    "plt_features = normalized_singular_values[:display_limit]\n",
    "plt_cumsum   = cumulative_sum[:display_limit]\n",
    "\n",
    "plt.figure(figsize = (16,8))\n",
    "\n",
    "plt.subplot(1,2,1)\n",
    "y_pos = np.arange(len(plt_features)) \n",
    "plt.bar(y_pos, plt_features, align='center', alpha=1.0)\n",
    "plt.xlabel('Features')\n",
    "plt.ylabel('Feature Variance')\n",
    "plt.title('Effectiveness of Transformed Features') \n",
    "\n",
    "\n",
    "plt.subplot(1,2,2)\n",
    "y_pos = np.arange(len(plt_cumsum)) \n",
    "plt.bar(y_pos, plt_cumsum, align='center', alpha=1.0)\n",
    "plt.xlabel('Features')\n",
    "plt.ylabel('Cumulative Feature Variance')\n",
    "plt.title('Effectiveness of Transformed Features')\n",
    "plt.show()"
   ]
  },
  {
   "cell_type": "markdown",
   "metadata": {},
   "source": [
    "---\n",
    "\n",
    "# Using Reduced Dataset Binary Classification Of Cells \n",
    "\n",
    "---"
   ]
  },
  {
   "cell_type": "markdown",
   "metadata": {},
   "source": [
    "## Declare Graph Variables\n",
    "\n",
    "Place to declare plave holders and variables for compute graph## "
   ]
  },
  {
   "cell_type": "code",
   "execution_count": 15,
   "metadata": {},
   "outputs": [],
   "source": [
    "SIGMA      = np.sqrt(2.0/rtrain_X.shape[0])\n",
    "n_features = rtrain_X.shape[1]\n",
    "n_labels   = 2\n",
    "\n",
    "\n",
    "Weights = tf.Variable(tf.truncated_normal(shape=[n_features, n_labels], mean=3.0*SIGMA, \n",
    "                                          stddev=SIGMA, dtype=tf.float32), trainable=True)\n",
    "Biases  = tf.Variable(tf.constant(value=SIGMA, dtype=tf.float32, shape=[n_labels]), \n",
    "                      trainable=True)\n",
    "\n",
    "t_dataset = tf.placeholder(tf.float32, shape=(None, n_features), name='t_dataset');\n",
    "t_labels  = tf.placeholder(tf.float32, shape=(None, n_labels), name='t_labels'); "
   ]
  },
  {
   "cell_type": "markdown",
   "metadata": {},
   "source": [
    "## Compute Graph\n",
    "Construct a Logistic Regression model"
   ]
  },
  {
   "cell_type": "code",
   "execution_count": 16,
   "metadata": {},
   "outputs": [],
   "source": [
    "predictions        = tf.matmul(t_dataset, Weights) + Biases\n",
    "\n",
    "t_labels_cls       = tf.argmax(t_labels, axis=1)\n",
    "predictions_cls    = tf.argmax(predictions, axis=1)\n",
    "correct_prediction = tf.equal(predictions_cls, t_labels_cls)\n",
    "accuracy           = tf.reduce_mean(tf.cast(correct_prediction, tf.float32))\n",
    "\n",
    "# change it to sigmoid_cross_entropy_with_logits\n",
    "cross_entropy = tf.nn.sparse_softmax_cross_entropy_with_logits(logits=predictions,\n",
    "                                                               labels=t_labels_cls)"
   ]
  },
  {
   "cell_type": "markdown",
   "metadata": {},
   "source": [
    "## Hyper Parameters"
   ]
  },
  {
   "cell_type": "code",
   "execution_count": 17,
   "metadata": {},
   "outputs": [],
   "source": [
    "# Hyper parameters\n",
    "learning_rate = 100\n",
    "training_epochs = 1000\n",
    "display_step = 50"
   ]
  },
  {
   "cell_type": "markdown",
   "metadata": {},
   "source": [
    "## Cost Function and Optimizer"
   ]
  },
  {
   "cell_type": "code",
   "execution_count": 18,
   "metadata": {},
   "outputs": [],
   "source": [
    "cost = tf.reduce_mean(cross_entropy)\n",
    "\n",
    "# Optimization algorithm\n",
    "optimizer = tf.train.GradientDescentOptimizer(learning_rate).minimize(cost)"
   ]
  },
  {
   "cell_type": "markdown",
   "metadata": {},
   "source": [
    "## Train the Model"
   ]
  },
  {
   "cell_type": "code",
   "execution_count": 19,
   "metadata": {},
   "outputs": [
    {
     "name": "stdout",
     "output_type": "stream",
     "text": [
      "Epoch: 0050 cost= 0.370120525 accuracy= 0.983902395\n",
      "Epoch: 0100 cost= 0.170708343 accuracy= 0.987593532\n",
      "Epoch: 0150 cost= 0.081086650 accuracy= 0.991182208\n",
      "Epoch: 0200 cost= 0.048267752 accuracy= 0.992720187\n",
      "Epoch: 0250 cost= 0.032852538 accuracy= 0.994053125\n",
      "Epoch: 0300 cost= 0.024037912 accuracy= 0.995386064\n",
      "Epoch: 0350 cost= 0.019059572 accuracy= 0.997026563\n",
      "Epoch: 0400 cost= 0.015804980 accuracy= 0.997744262\n",
      "Epoch: 0450 cost= 0.013557364 accuracy= 0.998359501\n",
      "Epoch: 0500 cost= 0.011665552 accuracy= 0.998462021\n",
      "Epoch: 0550 cost= 0.010154917 accuracy= 0.998564541\n",
      "Epoch: 0600 cost= 0.008933584 accuracy= 0.998667061\n",
      "Epoch: 0650 cost= 0.007752864 accuracy= 0.999282300\n",
      "Epoch: 0700 cost= 0.006932915 accuracy= 0.999384820\n",
      "Epoch: 0750 cost= 0.006195107 accuracy= 0.999487340\n",
      "Epoch: 0800 cost= 0.005498202 accuracy= 0.999589860\n",
      "Epoch: 0850 cost= 0.004831293 accuracy= 0.999589860\n",
      "Epoch: 0900 cost= 0.004195624 accuracy= 0.999589860\n",
      "Epoch: 0950 cost= 0.003615930 accuracy= 0.999589860\n",
      "Epoch: 1000 cost= 0.003156423 accuracy= 0.999589860\n",
      "\n",
      "Optimization Finished!\n"
     ]
    }
   ],
   "source": [
    "# Initialize the variables (i.e. assign their default value)\n",
    "init = tf.global_variables_initializer()\n",
    "\n",
    "# Start training\n",
    "sess = tf.Session()\n",
    "sess.run(init)\n",
    "\n",
    "for epoch in range(training_epochs):\n",
    "    sess.run(optimizer, feed_dict={t_dataset:rtrain_X, t_labels:train_Y})\n",
    "\n",
    "    #Display logs per epoch step\n",
    "    if (epoch+1) % display_step == 0:\n",
    "        c, a = sess.run([cost, accuracy], feed_dict={t_dataset:rtrain_X, t_labels:train_Y})\n",
    "        print (\"Epoch:\", '%04d' % (epoch+1), \"cost=\", \"{:.9f}\".format(c), \n",
    "               \"accuracy=\", \"{:.9f}\".format(a))\n",
    "\n",
    "print( \"\\nOptimization Finished!\" )"
   ]
  },
  {
   "cell_type": "markdown",
   "metadata": {},
   "source": [
    "## Cost and Accuracy"
   ]
  },
  {
   "cell_type": "code",
   "execution_count": 20,
   "metadata": {},
   "outputs": [
    {
     "name": "stdout",
     "output_type": "stream",
     "text": [
      "Training   cost    = 0.00315642\n",
      "Validation cost    = 0.031999 \n",
      "\n",
      "Training   Accuracy = 0.99959\n",
      "Validation Accuracy = 0.99508\n"
     ]
    }
   ],
   "source": [
    "rvalid_X = reduceDataset(valid_X)\n",
    "# Find cost on training dataset.\n",
    "t_cost, t_acc = sess.run([cost, accuracy], feed_dict={t_dataset:rtrain_X, t_labels:train_Y})\n",
    "v_cost, v_acc = sess.run([cost, accuracy], feed_dict={t_dataset:rvalid_X, t_labels:valid_Y})\n",
    "\n",
    "print (\"Training   cost    =\", t_cost)\n",
    "print (\"Validation cost    =\", v_cost, '\\n')\n",
    "print(\"Training   Accuracy =\", t_acc)\n",
    "print(\"Validation Accuracy =\", v_acc)"
   ]
  },
  {
   "cell_type": "markdown",
   "metadata": {},
   "source": [
    "# Classifier"
   ]
  },
  {
   "cell_type": "code",
   "execution_count": 21,
   "metadata": {},
   "outputs": [],
   "source": [
    "W = Weights.eval(session=sess)\n",
    "B = Biases.eval(session=sess)\n",
    "\n",
    "def classifier(X):\n",
    "    #prediction = predictions_cls.eval(session=sess, feed_dict={t_dataset:X, t_labels:[[0, 0]]})\n",
    "    prediction = np.argmax((np.matmul(X, W) + B), axis=1)\n",
    "    cell_type = 'COMB' if (prediction == 0 ) else 'SQNC'\n",
    "    return cell_type"
   ]
  },
  {
   "cell_type": "markdown",
   "metadata": {},
   "source": [
    "# Test Few Cells"
   ]
  },
  {
   "cell_type": "code",
   "execution_count": 22,
   "metadata": {},
   "outputs": [
    {
     "name": "stdout",
     "output_type": "stream",
     "text": [
      "..\\data\\2classes\\COMB\\AN2_1.mat          CLASS is : COMB\n",
      "..\\data\\2classes\\SQNC\\FSDNQO_2.mat       CLASS is : SQNC\n",
      "..\\data\\2classes\\COMB\\AN5_Y2_8_6.mat     CLASS is : SQNC\n",
      "..\\data\\2classes\\COMB\\OAI22_TY2_16.mat   CLASS is : COMB\n",
      "..\\data\\2classes\\COMB\\MUX5_CTY2_24_1.mat CLASS is : COMB\n",
      "..\\data\\2classes\\SQNC\\FSDPQO_6_2.mat     CLASS is : SQNC\n",
      "..\\data\\2classes\\COMB\\MUX3_CTY2_32.mat   CLASS is : COMB\n",
      "..\\data\\2classes\\SQNC\\FSDNQ_V2_1.mat     CLASS is : SQNC\n"
     ]
    }
   ],
   "source": [
    "sample_cells = [os.path.join('..','data','2classes','COMB', 'AN2_1.mat'), \n",
    "                os.path.join('..','data','2classes','SQNC', 'FSDNQO_2.mat'),\n",
    "                os.path.join('..','data','2classes','COMB', 'AN5_Y2_8_6.mat'),\n",
    "                os.path.join('..','data','2classes','COMB', 'OAI22_TY2_16.mat'),\n",
    "                os.path.join('..','data','2classes','COMB', 'MUX5_CTY2_24_1.mat'),\n",
    "                os.path.join('..','data','2classes','SQNC', 'FSDPQO_6_2.mat'),\n",
    "                os.path.join('..','data','2classes','COMB', 'MUX3_CTY2_32.mat'),\n",
    "                os.path.join('..','data','2classes','SQNC', 'FSDNQ_V2_1.mat')]\n",
    "\n",
    "for cell_file in sample_cells:\n",
    "    cell_data = normalize(reformat(load_one_cell(cell_file)), data_mean, data_std)\n",
    "    print (cell_file.ljust(40), 'CLASS is :', classifier(reduceDataset(cell_data)))\n",
    "    \n",
    "#Find all incorrectly predicted cells\n",
    "# print('Cells with incorrect classification: ')\n",
    "# incorrect_lbls = 0\n",
    "# for label in ('COMB', 'SQNC'):\n",
    "#     cell_files = os.listdir(os.path.join('..','data','2classes',label))\n",
    "#     for cell_file in cell_files:\n",
    "#         cell_data = normalize(reformat(\n",
    "#             load_one_cell(\n",
    "#                 os.path.join('..','data','2classes',label,cell_file)\n",
    "#             )\n",
    "#         ), data_mean, data_std)\n",
    "#         predicted_label = classifier(reduceDataset(cell_data))\n",
    "#         if ( label != predicted_label ):\n",
    "#             print(cell_file, end=', ')\n",
    "#             incorrect_lbls += 1\n",
    "# print ('\\nTotal number of incrrection prediction is ', incorrect_lbls)"
   ]
  },
  {
   "cell_type": "markdown",
   "metadata": {},
   "source": [
    "# Confusion Matrix"
   ]
  },
  {
   "cell_type": "code",
   "execution_count": 23,
   "metadata": {
    "scrolled": false
   },
   "outputs": [
    {
     "data": {
      "image/png": "[encoded data removed]",
      "text/plain": [
       "<matplotlib.figure.Figure at 0x13b28f07240>"
      ]
     },
     "metadata": {},
     "output_type": "display_data"
    }
   ],
   "source": [
    "t_predictions = sess.run(predictions, feed_dict={t_dataset:reduceDataset(dataset), t_labels:labels})\n",
    "cm = tf.confusion_matrix(labels=np.argmax(labels, axis=1), \n",
    "                         predictions=tf.argmax(t_predictions, axis=1), num_classes=2)\n",
    "cm_ary = cm.eval(session=sess)\n",
    "\n",
    "plt.figure(figsize = (8,8))\n",
    "ax = sn.heatmap(cm_ary, xticklabels=['COMB', 'SQNC'], yticklabels=['COMB', 'SQNC'], \n",
    "                cmap=\"Blues\", annot=True, fmt='d', annot_kws={\"size\": 16}, \n",
    "                cbar_kws={\"orientation\": \"horizontal\"})\n",
    "ax.set_title('Confusion Matrix with REDUCED Dataset')\n",
    "\n",
    "plt.show()\n"
   ]
  },
  {
   "cell_type": "markdown",
   "metadata": {},
   "source": [
    "# Conclusion\n",
    "\n",
    "Using PCA, we reduced our feature set set by over 77% as shown below with 99.97% of variance of our dataset kept.\n",
    "\n",
    "---\n",
    "__`dataset before (12192, 1755)`__\n",
    "\n",
    "__`dataset  after (12192,  397)`__\n",
    "\n",
    "\n",
    "We used this new dataset with reduced dimensionality as our new dataset for \"Binary Classification Of Cells Using Logistic Regression\". Resulting confusion matrix was very close to classes predicted with full dataset.\n",
    "\n"
   ]
  },
  {
   "cell_type": "code",
   "execution_count": 24,
   "metadata": {},
   "outputs": [
    {
     "data": {
      "image/png": "[encoded data removed]",
      "text/plain": [
       "<matplotlib.figure.Figure at 0x13b2ea6d048>"
      ]
     },
     "metadata": {},
     "output_type": "display_data"
    }
   ],
   "source": [
    "# Copy cm_ary from orig notebook on \"Binary Classification Of Cells Using Logistic Regression\".\n",
    "cm_ary_orig = [[10085, 11], [5, 2091]]\n",
    "\n",
    "plt.figure(figsize = (8,8))\n",
    "ax = sn.heatmap(cm_ary, xticklabels=['COMB', 'SQNC'], yticklabels=['COMB', 'SQNC'], \n",
    "                cmap=\"Blues\", annot=True, fmt='d', annot_kws={\"size\": 16}, \n",
    "                cbar_kws={\"orientation\": \"horizontal\"})\n",
    "ax.set_title('Confusion Matrix with ORIGINAL Dataset')\n",
    "\n",
    "#sn.set(font_scale=1.4)#for label size\n",
    "plt.show()"
   ]
  }
 ],
 "metadata": {
  "kernelspec": {
   "display_name": "Python 3",
   "language": "python",
   "name": "python3"
  },
  "language_info": {
   "codemirror_mode": {
    "name": "ipython",
    "version": 3
   },
   "file_extension": ".py",
   "mimetype": "text/x-python",
   "name": "python",
   "nbconvert_exporter": "python",
   "pygments_lexer": "ipython3",
   "version": "3.6.3"
  }
 },
 "nbformat": 4,
 "nbformat_minor": 2
}
