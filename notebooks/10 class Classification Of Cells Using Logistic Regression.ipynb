{
 "cells": [
  {
   "cell_type": "markdown",
   "metadata": {},
   "source": [
    "# 10 class Classification Of Cells Using Logistic Regression"
   ]
  },
  {
   "cell_type": "code",
   "execution_count": 4,
   "metadata": {
    "scrolled": true
   },
   "outputs": [
    {
     "name": "stdout",
     "output_type": "stream",
     "text": [
      "Python version     : 3.9\n",
      "Tensorflow version : 2.9.1\n",
      "numpy version      : 1.20.3\n"
     ]
    }
   ],
   "source": [
    "import sys\n",
    "import os\n",
    "from datetime import datetime\n",
    "import numpy as np\n",
    "import tensorflow as tf\n",
    "import matplotlib.pyplot as plt\n",
    "import seaborn as sn\n",
    "\n",
    "print('Python version     :', '{0[0]}.{0[1]}'.format(sys.version_info))\n",
    "print('Tensorflow version :', tf.__version__)\n",
    "print('numpy version      :', np.__version__)\n",
    "np.random.seed(0)\n",
    "tf.random.set_seed(2)"
   ]
  },
  {
   "cell_type": "markdown",
   "metadata": {},
   "source": [
    "## Dataset\n",
    "\n",
    "Our dataset consists of total of over 4,200 cells with a total of 10 categories;  \n",
    "Each cell in the dataset is represented as a 2D matrix of transistor devices and their parameters given below:\n",
    "\n",
    "\n",
    "| Device | param1 | param2 | param3 | param4 | param5 | ...... | ...... | param13 |\n",
    "|--------|--------|--------|--------|--------|--------|--------|--------|---------|\n",
    "|   10   |    6   |    6   |    3   |    3   |    5   |        |        |    2    |\n",
    "|   10   |    8   |    3   |    2   |    4   |    4   |    2   |    3   |    6    |\n",
    "|   20   |    7   |    3   |    2   |    4   |    4   |    2   |    3   |    2    |\n",
    "|  ...   |  ...   |  ...   |  ...   |  ...   |  ...   |  ...   |  ...   |  ...    |\n",
    "|  ...   |  ...   |  ...   |  ...   |  ...   |  ...   |  ...   |  ...   |  ...    |\n",
    "|   20   |    7   |    3   |    2   |    4   |    5   |    2   |    3   |    2    |\n",
    "\n",
    "\n",
    "Entire dataset consists of 4,200 such tables is shown in the next picture."
   ]
  },
  {
   "cell_type": "markdown",
   "metadata": {},
   "source": [
    "\n",
    "![Cell Dataset As Stack Of Tables](https://github.com/srohit0/mida/blob/master/data/CellDatasetAsStackOfTables.jpg?raw=true)"
   ]
  },
  {
   "cell_type": "markdown",
   "metadata": {},
   "source": [
    "# Load cells\n",
    "\n",
    "1. Set parameters of the cells (like max devices and feature per device etc).\n",
    "2. Read cells off the disk"
   ]
  },
  {
   "cell_type": "code",
   "execution_count": 5,
   "metadata": {},
   "outputs": [],
   "source": [
    "# max_devices_per_cell is also max number of rows in circuit files in the training set\n",
    "max_devices_per_cell = 369; \n",
    "# feature_per_device is different from max number of cols (14) in circuit files in training set\n",
    "feature_per_device   = 5; \n",
    "feature_indices = (0,2,5,8,11)\n",
    "\n",
    "def load_one_cell(cell_file):\n",
    "    cell_cols = 14\n",
    "    cell_data = np.zeros(shape=(max_devices_per_cell, cell_cols), dtype=np.float32)\n",
    "    cell_mat  = np.loadtxt(cell_file, dtype=np.float32, ndmin=2)\n",
    "    nrows     = cell_mat.shape[0]\n",
    "    ncols     = cell_mat.shape[1]\n",
    "    cell_data[:nrows, :ncols] = cell_mat\n",
    "    cell_data = cell_data[:, feature_indices]\n",
    "    return cell_data"
   ]
  },
  {
   "cell_type": "code",
   "execution_count": 6,
   "metadata": {
    "scrolled": false
   },
   "outputs": [
    {
     "name": "stdout",
     "output_type": "stream",
     "text": [
      "FDN : shape= (192, 369, 5) , Mean= 0.8676688 , sigma= 3.38401\n",
      "LD : shape= (192, 369, 5) , Mean= 0.44800135 , sigma= 2.2717547\n",
      "ADDH : shape= (208, 369, 5) , Mean= 0.5702705 , sigma= 2.5181172\n",
      "MAJ : shape= (320, 369, 5) , Mean= 0.7173425 , sigma= 2.7298725\n",
      "AOA : shape= (384, 369, 5) , Mean= 0.6993281 , sigma= 2.9019353\n",
      "ADDF : shape= (464, 369, 5) , Mean= 1.7197739 , sigma= 4.9835944\n",
      "CKG : shape= (560, 369, 5) , Mean= 1.4762921 , sigma= 4.818165\n",
      "FDP : shape= (608, 369, 5) , Mean= 0.77752906 , sigma= 3.1884894\n",
      "INV : shape= (614, 369, 5) , Mean= 0.34826055 , sigma= 2.0792024\n",
      "EN : shape= (736, 369, 5) , Mean= 0.8509058 , sigma= 3.0373306\n",
      "dataset: shape= (4278, 369, 5) , Mean= 0.8898671 , sigma= 3.4547768\n",
      "labels : shape= (4278, 10)\n"
     ]
    }
   ],
   "source": [
    "def load_cells(folder):\n",
    "  #Load the data for a single label.\n",
    "  cell_files = os.listdir(folder)\n",
    "  dataset = np.zeros(shape=(len(cell_files), max_devices_per_cell, feature_per_device),\n",
    "                         dtype=np.float32)\n",
    "  cell_index = 0\n",
    "  for cell in cell_files:\n",
    "    cell_file = os.path.join(folder, cell)\n",
    "    try:\n",
    "      cell_data = load_one_cell(cell_file)\n",
    "\n",
    "      cell_rows = cell_data.shape[0]\n",
    "      cell_cols = cell_data.shape[1]\n",
    "      dataset[cell_index, :cell_rows, :cell_cols] = cell_data\n",
    "\n",
    "      cell_index = cell_index + 1\n",
    "    except IOError as e:\n",
    "      print('Could not read:', cell_file, ':', e, '- it\\'s ok, skipping.')\n",
    "    \n",
    "  dataset = dataset[0:cell_index, :, :]\n",
    "\n",
    "  print(os.path.basename(folder), ': shape=', dataset.shape, ', Mean=', np.mean(dataset), ', sigma=', np.std(dataset))\n",
    "  return dataset\n",
    "\n",
    "label_list = ['FDN', 'LD', 'ADDH', 'MAJ', 'AOA', 'ADDF', 'CKG', 'FDP', 'INV', 'EN']\n",
    "n_labels   = len(label_list); # num_classes\n",
    "for label_index in range(n_labels):\n",
    "    cell_dataset = load_cells(os.path.join('..','data','cells',label_list[label_index]))\n",
    "    cell_labels = np.zeros((cell_dataset.shape[0], n_labels))\n",
    "    cell_labels[:, label_index] = 1\n",
    "    if label_index:\n",
    "        dataset = np.append(dataset, cell_dataset, axis=0)\n",
    "        labels  = np.append(labels,  cell_labels,  axis=0)\n",
    "    else:\n",
    "        dataset = cell_dataset\n",
    "        labels  = cell_labels\n",
    "\n",
    "print('dataset: shape=', dataset.shape, ', Mean=', np.mean(dataset), ', sigma=', np.std(dataset))\n",
    "print('labels : shape=', labels.shape)"
   ]
  },
  {
   "cell_type": "markdown",
   "metadata": {},
   "source": [
    "# Randomize Dataset"
   ]
  },
  {
   "cell_type": "code",
   "execution_count": 7,
   "metadata": {},
   "outputs": [
    {
     "name": "stdout",
     "output_type": "stream",
     "text": [
      "Full dataset: no. of cells= (4278, 369, 5) Min= 0.0 Max= 50.0 Mean= 0.8898671 Sigma= 3.4547756\n"
     ]
    }
   ],
   "source": [
    "# randomize dataset and labels together to keep'em in sync.\n",
    "def randomize(dataset, labels):\n",
    "  permutation = np.random.permutation(labels.shape[0])\n",
    "  shuffled_dataset = dataset[permutation,:,:]\n",
    "  shuffled_labels = labels[permutation]\n",
    "  return shuffled_dataset, shuffled_labels\n",
    "\n",
    "# randomize dataset\n",
    "dataset, labels = randomize(dataset, labels)\n",
    "\n",
    "print('Full dataset: no. of cells=', dataset.shape, 'Min=', np.min(dataset), 'Max=',np.max(dataset), \n",
    "      'Mean=', np.mean(dataset), 'Sigma=', np.std(dataset))"
   ]
  },
  {
   "cell_type": "markdown",
   "metadata": {},
   "source": [
    "# Reformat Dataset\n",
    "\n",
    "Reformat dataset so that it becomes consumable by the input layer of neural network."
   ]
  },
  {
   "cell_type": "code",
   "execution_count": 8,
   "metadata": {},
   "outputs": [
    {
     "name": "stdout",
     "output_type": "stream",
     "text": [
      "(4278, 1845)\n"
     ]
    }
   ],
   "source": [
    "def reformat(dataset):\n",
    "    dataset = dataset.reshape((-1, max_devices_per_cell*feature_per_device))\n",
    "    return dataset\n",
    "\n",
    "dataset = reformat(dataset)\n",
    "print(dataset.shape)"
   ]
  },
  {
   "cell_type": "markdown",
   "metadata": {},
   "source": [
    "# Normalize Dataset"
   ]
  },
  {
   "cell_type": "code",
   "execution_count": 9,
   "metadata": {},
   "outputs": [
    {
     "name": "stdout",
     "output_type": "stream",
     "text": [
      "Min= 0.0 Max= 1.0 Mean= 0.017797336 sigma= 0.06909556\n",
      "Dataset size (4278, 1845)\n"
     ]
    }
   ],
   "source": [
    "# normalize the dataset between 0 and 1.\n",
    "data_mean = 0;\n",
    "data_std  = (np.max(dataset)-np.min(dataset));\n",
    "\n",
    "def normalize(d, mean, std):\n",
    "    return (d - mean) / std\n",
    "\n",
    "def denormalize(d, mean, std):\n",
    "    return (d * std) + mean\n",
    "\n",
    "dataset = normalize(dataset, data_mean, data_std)\n",
    "\n",
    "print('Min=', np.min(dataset), 'Max=',np.max(dataset), 'Mean=',np.mean(dataset), 'sigma=', np.std(dataset))\n",
    "print('Dataset size', dataset.shape)\n",
    "#print('dataset feature min vector = ', np.min(dataset, axis=0))\n",
    "#print('dataset feature max vector = ', np.max(dataset, axis=0))"
   ]
  },
  {
   "cell_type": "markdown",
   "metadata": {},
   "source": [
    "# Divide dataset\n",
    "into training dataset and validation dataset"
   ]
  },
  {
   "cell_type": "code",
   "execution_count": 33,
   "metadata": {},
   "outputs": [
    {
     "name": "stdout",
     "output_type": "stream",
     "text": [
      "(3422, 1845)\n"
     ]
    }
   ],
   "source": [
    "# training dataset percentage is 80%\n",
    "def divide_dataset(dataset, labels):\n",
    "    train_pct = 0.8; \n",
    "    # divide dataset into training and validation set\n",
    "    train_index = int(dataset.shape[0]*train_pct)\n",
    "    t_X = dataset[:train_index, :]\n",
    "    t_Y = labels[:train_index,:]\n",
    "    v_X = dataset[train_index:,:]\n",
    "    v_Y = labels[train_index:,:]\n",
    "    \n",
    "    return t_X, t_Y, v_X, v_Y\n",
    "\n",
    "train_X, train_Y, valid_X, valid_Y = divide_dataset(dataset, labels)\n",
    "\n",
    "print(train_X.shape)"
   ]
  },
  {
   "cell_type": "markdown",
   "metadata": {},
   "source": [
    "## Declare Graph Variables\n",
    "\n",
    "Place to declare place holders and variables for compute graph"
   ]
  },
  {
   "cell_type": "code",
   "execution_count": 34,
   "metadata": {},
   "outputs": [],
   "source": [
    "SIGMA      = np.sqrt(2.0/train_X.shape[0])\n",
    "n_features = train_X.shape[1]\n",
    "\n",
    "\n",
    "Weights = tf.Variable(tf.random.truncated_normal(shape=[n_features, n_labels], mean=3.0*SIGMA, stddev=SIGMA, dtype=tf.float32), trainable=True)\n",
    "Biases  = tf.Variable(tf.constant(value=SIGMA, dtype=tf.float32, shape=[n_labels]), trainable=True)\n",
    "import tensorflow.compat.v1 as tf\n",
    "\n",
    "tf.disable_v2_behavior()\n",
    "t_dataset = tf.placeholder(tf.float32, shape=(None, n_features), name='t_dataset');\n",
    "t_labels  = tf.placeholder(tf.float32, shape=(None, n_labels), name='t_labels'); "
   ]
  },
  {
   "cell_type": "markdown",
   "metadata": {},
   "source": [
    "## Compute Graph\n",
    "Construct a Logistic Regression model"
   ]
  },
  {
   "cell_type": "code",
   "execution_count": 35,
   "metadata": {},
   "outputs": [],
   "source": [
    "predictions        = tf.matmul(t_dataset, Weights) + Biases\n",
    "\n",
    "t_labels_cls       = tf.argmax(t_labels, axis=1)\n",
    "predictions_cls    = tf.argmax(predictions, axis=1)\n",
    "correct_prediction = tf.equal(predictions_cls, t_labels_cls)\n",
    "accuracy           = tf.reduce_mean(tf.cast(correct_prediction, tf.float32))\n",
    "\n",
    "# change it to sigmoid_cross_entropy_with_logits\n",
    "cross_entropy = tf.nn.sparse_softmax_cross_entropy_with_logits(logits=predictions,\n",
    "                                                               labels=t_labels_cls)"
   ]
  },
  {
   "cell_type": "markdown",
   "metadata": {},
   "source": [
    "## Parameters and Function\n",
    "Logistic Regression parameters and functions"
   ]
  },
  {
   "cell_type": "code",
   "execution_count": 36,
   "metadata": {},
   "outputs": [],
   "source": [
    "# Hyper parameters\n",
    "# Parameters\n",
    "learning_rate = 1\n",
    "training_epochs = 500\n",
    "display_step = 50\n",
    "\n",
    "# Cost\n",
    "cost = tf.reduce_mean(cross_entropy)\n",
    "\n",
    "# Optimization algorithm\n",
    "optimizer = tf.train.GradientDescentOptimizer(learning_rate).minimize(cost)"
   ]
  },
  {
   "cell_type": "markdown",
   "metadata": {},
   "source": [
    "## Training the Model"
   ]
  },
  {
   "cell_type": "code",
   "execution_count": 37,
   "metadata": {
    "scrolled": false
   },
   "outputs": [
    {
     "name": "stdout",
     "output_type": "stream",
     "text": [
      "[    5 sec ] Epoch: 0050 cost= 1.55417 train acc= 0.468 valid acc= 0.465\n",
      "[   10 sec ] Epoch: 0100 cost= 1.37257 train acc= 0.541 valid acc= 0.520\n",
      "[   16 sec ] Epoch: 0150 cost= 1.26210 train acc= 0.599 valid acc= 0.570\n",
      "[   21 sec ] Epoch: 0200 cost= 1.18278 train acc= 0.622 valid acc= 0.593\n",
      "[   26 sec ] Epoch: 0250 cost= 1.12092 train acc= 0.647 valid acc= 0.611\n",
      "[   31 sec ] Epoch: 0300 cost= 1.07025 train acc= 0.666 valid acc= 0.630\n",
      "[   36 sec ] Epoch: 0350 cost= 1.02739 train acc= 0.680 valid acc= 0.643\n",
      "[   41 sec ] Epoch: 0400 cost= 0.99031 train acc= 0.696 valid acc= 0.655\n",
      "[   47 sec ] Epoch: 0450 cost= 0.95768 train acc= 0.714 valid acc= 0.669\n",
      "[   52 sec ] Epoch: 0500 cost= 0.92860 train acc= 0.728 valid acc= 0.676\n",
      "\n",
      "Optimization Finished!\n"
     ]
    }
   ],
   "source": [
    "# Initialize the variables (i.e. assign their default value)\n",
    "init = tf.global_variables_initializer()\n",
    "\n",
    "# Start training\n",
    "sess = tf.Session()\n",
    "sess.run(init)\n",
    "\n",
    "t_start = datetime.now()\n",
    "\n",
    "for epoch in range(training_epochs):\n",
    "    sess.run(optimizer, feed_dict={t_dataset:train_X, t_labels:train_Y})\n",
    "\n",
    "    #Display logs per epoch step\n",
    "    if (epoch+1) % display_step == 0:\n",
    "        t_cost, t_acc = sess.run([cost, accuracy], feed_dict={t_dataset:train_X, t_labels:train_Y})\n",
    "        v_cost, v_acc = sess.run([cost, accuracy], feed_dict={t_dataset:valid_X, t_labels:valid_Y})\n",
    "        print (\"[\", \"{:4d}\".format((datetime.now()-t_start).seconds), \n",
    "               \"sec ] Epoch:\", '%04d' % (epoch+1), \n",
    "               \"cost=\", \"{:.5f}\".format(t_cost),\n",
    "               \"train acc=\", \"{:.3f}\".format(t_acc),\n",
    "               \"valid acc=\", \"{:.3f}\".format(v_acc))\n",
    "\n",
    "print( \"\\nOptimization Finished!\" )"
   ]
  },
  {
   "cell_type": "markdown",
   "metadata": {},
   "source": [
    "# Cost and Accuracy"
   ]
  },
  {
   "cell_type": "code",
   "execution_count": 38,
   "metadata": {},
   "outputs": [
    {
     "name": "stdout",
     "output_type": "stream",
     "text": [
      "Training   cost    = 0.9286016\n",
      "Validation cost    = 0.98163795 \n",
      "\n",
      "Training   Accuracy = 0.7282291\n",
      "Validation Accuracy = 0.67640185\n"
     ]
    }
   ],
   "source": [
    "# Find cost on training dataset.\n",
    "t_cost, t_acc = sess.run([cost, accuracy], feed_dict={t_dataset:train_X, t_labels:train_Y})\n",
    "v_cost, v_acc = sess.run([cost, accuracy], feed_dict={t_dataset:valid_X, t_labels:valid_Y})\n",
    "\n",
    "print (\"Training   cost    =\", t_cost)\n",
    "print (\"Validation cost    =\", v_cost, '\\n')\n",
    "print(\"Training   Accuracy =\", t_acc)\n",
    "print(\"Validation Accuracy =\", v_acc)"
   ]
  },
  {
   "cell_type": "markdown",
   "metadata": {},
   "source": [
    "# Confusion Matrix"
   ]
  },
  {
   "cell_type": "code",
   "execution_count": 39,
   "metadata": {},
   "outputs": [
    {
     "data": {
      "image/png": "[encoded data removed]",
      "text/plain": [
       "<Figure size 1080x1080 with 2 Axes>"
      ]
     },
     "metadata": {},
     "output_type": "display_data"
    }
   ],
   "source": [
    "pred = sess.run(predictions, feed_dict={t_dataset:dataset, t_labels:labels})\n",
    "cm = tf.confusion_matrix(labels=np.argmax(labels, axis=1), predictions=np.argmax(pred, axis=1), num_classes=n_labels)\n",
    "cm_ary = cm.eval(session=sess)\n",
    "\n",
    "plt.figure(figsize = (1.5*n_labels,1.5*n_labels))\n",
    "sn.heatmap(cm_ary,   xticklabels=label_list, yticklabels=label_list,\n",
    "           cmap=\"Blues\", annot=True, fmt='d', annot_kws={\"size\": 12})# font size\n",
    "sn.set(font_scale=1.0)#for label size\n",
    "plt.show()"
   ]
  },
  {
   "cell_type": "markdown",
   "metadata": {},
   "source": [
    "# Conclusion\n",
    "Logistic Regression gave us unacceptable accuracy of around 70% in both training and validation sets."
   ]
  },
  {
   "cell_type": "code",
   "execution_count": 40,
   "metadata": {},
   "outputs": [],
   "source": [
    "sess.close()"
   ]
  },
  {
   "cell_type": "code",
   "execution_count": null,
   "metadata": {},
   "outputs": [],
   "source": []
  }
 ],
 "metadata": {
  "kernelspec": {
   "display_name": "Python 3 (ipykernel)",
   "language": "python",
   "name": "python3"
  },
  "language_info": {
   "codemirror_mode": {
    "name": "ipython",
    "version": 3
   },
   "file_extension": ".py",
   "mimetype": "text/x-python",
   "name": "python",
   "nbconvert_exporter": "python",
   "pygments_lexer": "ipython3",
   "version": "3.9.7"
  }
 },
 "nbformat": 4,
 "nbformat_minor": 2
}
